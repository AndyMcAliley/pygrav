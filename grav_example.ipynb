{
 "cells": [
  {
   "cell_type": "markdown",
   "metadata": {},
   "source": [
    "# Demonstration of 3D gravity modeling"
   ]
  },
  {
   "cell_type": "code",
   "execution_count": 1,
   "metadata": {},
   "outputs": [],
   "source": [
    "import numpy as np\n",
    "import matplotlib.pyplot as plt\n",
    "import grav"
   ]
  },
  {
   "cell_type": "markdown",
   "metadata": {},
   "source": [
    "## The mesh"
   ]
  },
  {
   "cell_type": "markdown",
   "metadata": {},
   "source": [
    "First, let's set up a rectlinear mesh.\n",
    "xnodes, ynodes, and znodes are 1D vectors.\n",
    "They hold the x, y, and z coordinates of the mesh nodes."
   ]
  },
  {
   "cell_type": "code",
   "execution_count": 2,
   "metadata": {},
   "outputs": [],
   "source": [
    "xnodes = np.linspace(0,200,3)\n",
    "ynodes = np.linspace(0,300,4)\n",
    "znodes = np.linspace(0,400,5)"
   ]
  },
  {
   "cell_type": "markdown",
   "metadata": {},
   "source": [
    "Since there is one fewer block in each direction than there are nodes,"
   ]
  },
  {
   "cell_type": "code",
   "execution_count": 3,
   "metadata": {},
   "outputs": [],
   "source": [
    "nx = len(xnodes)-1\n",
    "ny = len(ynodes)-1 \n",
    "nz = len(znodes)-1"
   ]
  },
  {
   "cell_type": "markdown",
   "metadata": {},
   "source": [
    "So, the mesh will have m=(nx-1)(ny-1)(nz-1) total rectangular blocks.\n",
    "All distances are in meters.\n",
    "x is northing, y is easting, z is positive down."
   ]
  },
  {
   "cell_type": "markdown",
   "metadata": {},
   "source": [
    "## Observation locations"
   ]
  },
  {
   "cell_type": "markdown",
   "metadata": {},
   "source": [
    "locs is an nx3 matrix of observation locations.\n",
    "Note: z is positive down, so negative z values correspond to locations above the surface, and positive z values to locations below.\n",
    "I'm not sure things work right when z is positive (when an observation location is inside a block)!"
   ]
  },
  {
   "cell_type": "code",
   "execution_count": 4,
   "metadata": {},
   "outputs": [
    {
     "data": {
      "text/plain": [
       "(4, 3)"
      ]
     },
     "execution_count": 4,
     "metadata": {},
     "output_type": "execute_result"
    }
   ],
   "source": [
    "# A mostly straight east-to-west line of observations\n",
    "xlocs = [40,43,41,42]\n",
    "ylocs = [250,200,150,100]\n",
    "zlocs = [-50,-25,-30,-45]\n",
    "\n",
    "locs = np.array([xlocs,ylocs,zlocs]).T\n",
    "locs.shape"
   ]
  },
  {
   "cell_type": "markdown",
   "metadata": {},
   "source": [
    "## Sensitivity matrix"
   ]
  },
  {
   "cell_type": "markdown",
   "metadata": {},
   "source": [
    "The sensitivity matrix G describes each data point's sensitivity to an change in density in each block. It is nxm where n is the number of observation locations, and m is the number of blocks.\n",
    "Each row of G corresponds to one observation location.\n",
    "Each column of G corresponds to one block in the model."
   ]
  },
  {
   "cell_type": "code",
   "execution_count": 5,
   "metadata": {},
   "outputs": [
    {
     "data": {
      "text/plain": [
       "(4, 24)"
      ]
     },
     "execution_count": 5,
     "metadata": {},
     "output_type": "execute_result"
    }
   ],
   "source": [
    "G = grav.sens3d(xnodes,ynodes,znodes,locs)\n",
    "G.shape"
   ]
  },
  {
   "cell_type": "markdown",
   "metadata": {},
   "source": [
    "The way the columns (blocks) are ordered within G is a bit funny. \n",
    "G[:,0] corresponds to the block in the upper southwest corner.\n",
    "G[:,1] corresponds to one block lower, in the southwest corner.\n",
    "And so on, until you get to the bottom block in the southwest corner.\n",
    "Call it G[:,nz].\n",
    "Then, G[:,nz+1] corresponds to the block that is one to the east of the upper southwest corner.\n",
    "And so on.\n",
    "\n",
    "In other words, the columns of G are ordered such that they vary fastest in z (from top to bottom), then in y (from west to east), then in x (from south to north).\n",
    "\n",
    "The rows of G are ordered the same as the rows of locs, as you would expect."
   ]
  },
  {
   "cell_type": "code",
   "execution_count": 6,
   "metadata": {},
   "outputs": [
    {
     "data": {
      "text/plain": [
       "<matplotlib.colorbar.Colorbar at 0x1138fa7b8>"
      ]
     },
     "execution_count": 6,
     "metadata": {},
     "output_type": "execute_result"
    },
    {
     "data": {
      "image/png": "[encoded data removed]",
      "text/plain": [
       "<Figure size 432x288 with 2 Axes>"
      ]
     },
     "metadata": {},
     "output_type": "display_data"
    }
   ],
   "source": [
    "# get the row of G that corresponds to the first observation location\n",
    "# reshape it, so that we can index it as G0[ix,iy,iz]\n",
    "G0 = G[0,:].reshape(2,3,4)\n",
    "# now pull out only the cross-section for ix=0\n",
    "G00 = G0[0,:,:]\n",
    "# plot it such that y is positive right and z is positive down\n",
    "plt.imshow(G00.T)\n",
    "plt.colorbar()"
   ]
  },
  {
   "cell_type": "code",
   "execution_count": 7,
   "metadata": {},
   "outputs": [
    {
     "data": {
      "text/plain": [
       "<matplotlib.colorbar.Colorbar at 0x113a5f208>"
      ]
     },
     "execution_count": 7,
     "metadata": {},
     "output_type": "execute_result"
    },
    {
     "data": {
      "image/png": "[encoded data removed]",
      "text/plain": [
       "<Figure size 432x288 with 2 Axes>"
      ]
     },
     "metadata": {},
     "output_type": "display_data"
    }
   ],
   "source": [
    "# now pull out only the cross-section for ix=1 and plot it\n",
    "G01 = G0[1,:,:]\n",
    "plt.imshow(G01.T)\n",
    "plt.colorbar()"
   ]
  },
  {
   "cell_type": "markdown",
   "metadata": {},
   "source": [
    "To forward model, you must form a vector that holds the density contrasts (as g/cm^3) of each block, ordered the same as the columns of G (fastest in z, then y, then x)."
   ]
  },
  {
   "cell_type": "code",
   "execution_count": 8,
   "metadata": {},
   "outputs": [
    {
     "data": {
      "text/plain": [
       "(24,)"
      ]
     },
     "execution_count": 8,
     "metadata": {},
     "output_type": "execute_result"
    }
   ],
   "source": [
    "# Homogeneous density\n",
    "density = np.array([0.]*G.shape[1])\n",
    "# Reshape to make it easier to index\n",
    "density = density.reshape(2,3,4)\n",
    "\n",
    "# Add an anomaly, kind of in the middle\n",
    "density[0,1,1] = 0.25\n",
    "density[0,1,2] = 0.5\n",
    "density[0,2,1] = 0.2\n",
    "density[0,2,2] = 0.4\n",
    "\n",
    "# Reshape again to turn back into a vector\n",
    "density = density.flatten()\n",
    "density.shape"
   ]
  },
  {
   "cell_type": "markdown",
   "metadata": {},
   "source": [
    "To compute data, multiply G and the density vector (G \\* rho = d). Data are reported in milliGals."
   ]
  },
  {
   "cell_type": "code",
   "execution_count": 9,
   "metadata": {},
   "outputs": [
    {
     "data": {
      "text/plain": [
       "array([0.12404797, 0.16218949, 0.14926607, 0.11553879])"
      ]
     },
     "execution_count": 9,
     "metadata": {},
     "output_type": "execute_result"
    }
   ],
   "source": [
    "data = G.dot(density)\n",
    "data"
   ]
  },
  {
   "cell_type": "markdown",
   "metadata": {},
   "source": [
    "Sanity check: approximate the density anomaly as a sphere, and compute g = gamma * m / R^2"
   ]
  },
  {
   "cell_type": "code",
   "execution_count": 10,
   "metadata": {},
   "outputs": [
    {
     "data": {
      "text/plain": [
       "0.15130434782608695"
      ]
     },
     "execution_count": 10,
     "metadata": {},
     "output_type": "execute_result"
    }
   ],
   "source": [
    "6.67*10**(-3)*(.3*100*200*200)/(230**2)"
   ]
  },
  {
   "cell_type": "markdown",
   "metadata": {},
   "source": [
    "Seems reasonably close."
   ]
  }
 ],
 "metadata": {
  "kernelspec": {
   "display_name": "Python (root)",
   "language": "python",
   "name": "root"
  },
  "language_info": {
   "codemirror_mode": {
    "name": "ipython",
    "version": 3
   },
   "file_extension": ".py",
   "mimetype": "text/x-python",
   "name": "python",
   "nbconvert_exporter": "python",
   "pygments_lexer": "ipython3",
   "version": "3.6.8"
  }
 },
 "nbformat": 4,
 "nbformat_minor": 2
}
